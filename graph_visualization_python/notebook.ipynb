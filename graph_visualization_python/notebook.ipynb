{
 "cells": [
  {
   "cell_type": "code",
   "execution_count": null,
   "metadata": {},
   "outputs": [],
   "source": [
    "#pip install pyvis"
   ]
  },
  {
   "cell_type": "code",
   "execution_count": null,
   "metadata": {},
   "outputs": [],
   "source": [
    "import pandas as pd\n",
    "import pyvis as pyv\n",
    "from pyvis.network import Network\n",
    "pyv.__version__"
   ]
  },
  {
   "cell_type": "code",
   "execution_count": 36,
   "metadata": {},
   "outputs": [
    {
     "data": {
      "text/html": [
       "<div>\n",
       "<style scoped>\n",
       "    .dataframe tbody tr th:only-of-type {\n",
       "        vertical-align: middle;\n",
       "    }\n",
       "\n",
       "    .dataframe tbody tr th {\n",
       "        vertical-align: top;\n",
       "    }\n",
       "\n",
       "    .dataframe thead th {\n",
       "        text-align: right;\n",
       "    }\n",
       "</style>\n",
       "<table border=\"1\" class=\"dataframe\">\n",
       "  <thead>\n",
       "    <tr style=\"text-align: right;\">\n",
       "      <th></th>\n",
       "      <th>vertEntrada</th>\n",
       "      <th>vertSaida</th>\n",
       "      <th>PesoAresta</th>\n",
       "      <th>TarefaVertEntrada</th>\n",
       "      <th>Tarefa - vertSaida</th>\n",
       "      <th>Tarefa Normal/Compromisso - vertEntrada</th>\n",
       "      <th>Tarefa Normal/Compromisso - vertSaida</th>\n",
       "    </tr>\n",
       "  </thead>\n",
       "  <tbody>\n",
       "    <tr>\n",
       "      <th>0</th>\n",
       "      <td>0</td>\n",
       "      <td>1</td>\n",
       "      <td>2</td>\n",
       "      <td>'Estudar Grafos'</td>\n",
       "      <td>'Estudar Rust'</td>\n",
       "      <td>1</td>\n",
       "      <td>1</td>\n",
       "    </tr>\n",
       "    <tr>\n",
       "      <th>1</th>\n",
       "      <td>0</td>\n",
       "      <td>2</td>\n",
       "      <td>2</td>\n",
       "      <td>'Estudar Grafos'</td>\n",
       "      <td>'Aula Rust'</td>\n",
       "      <td>1</td>\n",
       "      <td>0</td>\n",
       "    </tr>\n",
       "    <tr>\n",
       "      <th>2</th>\n",
       "      <td>0</td>\n",
       "      <td>3</td>\n",
       "      <td>2</td>\n",
       "      <td>'Estudar Grafos'</td>\n",
       "      <td>'Aula de Natação'</td>\n",
       "      <td>1</td>\n",
       "      <td>0</td>\n",
       "    </tr>\n",
       "    <tr>\n",
       "      <th>3</th>\n",
       "      <td>0</td>\n",
       "      <td>4</td>\n",
       "      <td>2</td>\n",
       "      <td>'Estudar Grafos'</td>\n",
       "      <td>'Bolsa'</td>\n",
       "      <td>1</td>\n",
       "      <td>1</td>\n",
       "    </tr>\n",
       "    <tr>\n",
       "      <th>4</th>\n",
       "      <td>1</td>\n",
       "      <td>0</td>\n",
       "      <td>2</td>\n",
       "      <td>'Estudar Rust'</td>\n",
       "      <td>'Estudar Grafos'</td>\n",
       "      <td>1</td>\n",
       "      <td>1</td>\n",
       "    </tr>\n",
       "  </tbody>\n",
       "</table>\n",
       "</div>"
      ],
      "text/plain": [
       "   vertEntrada  vertSaida  PesoAresta TarefaVertEntrada Tarefa - vertSaida  \\\n",
       "0            0          1           2  'Estudar Grafos'     'Estudar Rust'   \n",
       "1            0          2           2  'Estudar Grafos'        'Aula Rust'   \n",
       "2            0          3           2  'Estudar Grafos'  'Aula de Natação'   \n",
       "3            0          4           2  'Estudar Grafos'            'Bolsa'   \n",
       "4            1          0           2    'Estudar Rust'   'Estudar Grafos'   \n",
       "\n",
       "   Tarefa Normal/Compromisso - vertEntrada  \\\n",
       "0                                        1   \n",
       "1                                        1   \n",
       "2                                        1   \n",
       "3                                        1   \n",
       "4                                        1   \n",
       "\n",
       "   Tarefa Normal/Compromisso - vertSaida  \n",
       "0                                      1  \n",
       "1                                      0  \n",
       "2                                      0  \n",
       "3                                      1  \n",
       "4                                      1  "
      ]
     },
     "execution_count": 36,
     "metadata": {},
     "output_type": "execute_result"
    }
   ],
   "source": [
    "#labels = pd.read_csv(\"../data_graph/saidaLabelsVerticesGrafoDirecionado.txt\", header=None)\n",
    "#labels.columns = ['']\n",
    "#listaLabels = list(labels['0'])\n",
    "data = pd.read_csv(\"../data_graph/saidaGrafoDirecionado.txt\",header=None,sep=',')\n",
    "data.columns = ['vertEntrada','vertSaida','PesoAresta','TarefaVertEntrada','Tarefa - vertSaida','Tarefa Normal/Compromisso - vertEntrada', 'Tarefa Normal/Compromisso - vertSaida']\n",
    "#sample = data.sample(1000, random_state = 1)\n",
    "data.head(5)"
   ]
  },
  {
   "cell_type": "code",
   "execution_count": 35,
   "metadata": {},
   "outputs": [
    {
     "name": "stdout",
     "output_type": "stream",
     "text": [
      "graph.html\n"
     ]
    },
    {
     "data": {
      "text/html": [
       "\n",
       "        <iframe\n",
       "            width=\"100%\"\n",
       "            height=\"750px\"\n",
       "            src=\"graph.html\"\n",
       "            frameborder=\"0\"\n",
       "            allowfullscreen\n",
       "            \n",
       "        ></iframe>\n",
       "        "
      ],
      "text/plain": [
       "<IPython.lib.display.IFrame at 0x277f8372f10>"
      ]
     },
     "execution_count": 35,
     "metadata": {},
     "output_type": "execute_result"
    }
   ],
   "source": [
    "net = Network(notebook = True, cdn_resources = \"remote\",\n",
    "                bgcolor = \"#222222\",\n",
    "                font_color = \"white\",\n",
    "                height = \"750px\",\n",
    "                width = \"100%\", directed = True\n",
    ")\n",
    "nodes = list(set([*data.vertEntrada,*data.vertSaida]))\n",
    "edges = []\n",
    "for i in range(0,data['vertEntrada'].count()):\n",
    "    edges.append((int(data['vertEntrada'].values[i]), int(data['vertSaida'].values[i]), int(data['PesoAresta'].values[i])))\n",
    "\n",
    "net.add_nodes(nodes,label=list(data.TarefaVertEntrada.unique()))\n",
    "net.add_edges(edges)\n",
    "#net.show_buttons('physics')\n",
    "net.show(\"graph.html\")"
   ]
  },
  {
   "cell_type": "code",
   "execution_count": null,
   "metadata": {},
   "outputs": [],
   "source": [
    "net = Network(notebook = True, cdn_resources = \"remote\",\n",
    "                bgcolor = \"#222222\",\n",
    "                font_color = \"white\",\n",
    "                height = \"750px\",\n",
    "                width = \"100%\",\n",
    "                select_menu = True,\n",
    "                filter_menu = True,\n",
    ")\n",
    "nodes = list(set([*sample.vertEntrada,*sample.vertSaida]))\n",
    "edges = sample.values.tolist()\n",
    "net.add_nodes(nodes)\n",
    "net.add_edges(edges)\n",
    "net.show(\"graph_with_menu.html\")"
   ]
  },
  {
   "cell_type": "code",
   "execution_count": null,
   "metadata": {},
   "outputs": [],
   "source": []
  }
 ],
 "metadata": {
  "kernelspec": {
   "display_name": "Python 3",
   "language": "python",
   "name": "python3"
  },
  "language_info": {
   "codemirror_mode": {
    "name": "ipython",
    "version": 3
   },
   "file_extension": ".py",
   "mimetype": "text/x-python",
   "name": "python",
   "nbconvert_exporter": "python",
   "pygments_lexer": "ipython3",
   "version": "3.11.5"
  }
 },
 "nbformat": 4,
 "nbformat_minor": 2
}
